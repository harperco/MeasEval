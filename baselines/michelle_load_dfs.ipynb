{
 "cells": [
  {
   "cell_type": "code",
   "execution_count": 101,
   "metadata": {},
   "outputs": [],
   "source": [
    "import random\n",
    "import os\n",
    "import pickle\n",
    "import numpy as np\n",
    "from transformers import AutoTokenizer, AutoConfig, AutoProcessor\n",
    "from transformers import DataCollatorWithPadding\n",
    "from transformers import AutoModel, TrainingArguments, Trainer\n",
    "import pandas as pd\n",
    "import json\n",
    "# from transformers import RobertaTokenizer, RobertaModel\n",
    "\n",
    "random.seed(42)\n",
    "percent_to_train = .8\n",
    "\n",
    "model_name = 'allenai/biomed_roberta_base'\n",
    "dropout = .03\n",
    "\n"
   ]
  },
  {
   "cell_type": "code",
   "execution_count": 36,
   "metadata": {},
   "outputs": [
    {
     "name": "stdout",
     "output_type": "stream",
     "text": [
      "combopath_txt:  /home/michelle/MeasEval/baselines/../data/raw/combo/tsv/\n",
      "combopath_annot : /home/michelle/MeasEval/baselines/../data/raw/combo/tsv/\n",
      "interimpath:  /home/michelle/MeasEval/baselines/../data/interim/\n"
     ]
    }
   ],
   "source": [
    "# Set directories (from sam_baseline.ipynb)\n",
    "currentdir = os.getcwd() # ~/MeasEval/baselines\n",
    "combopath_txt = os.path.join(currentdir, \"../data/raw/combo/tsv/\")\n",
    "print(\"combopath_txt: \", combopath_txt)\n",
    "combopath_annot = os.path.join(currentdir, \"../data/raw/combo/tsv/\")\n",
    "print(\"combopath_annot :\", combopath_annot)\n",
    "interimpath = os.path.join(currentdir, \"../data/interim/\")\n",
    "print(\"interimpath: \", interimpath)\n"
   ]
  },
  {
   "cell_type": "markdown",
   "metadata": {},
   "source": [
    "### Run Functions"
   ]
  },
  {
   "cell_type": "code",
   "execution_count": 210,
   "metadata": {},
   "outputs": [],
   "source": [
    "def generate_text_dfs(train_text_path, dev_text_path, test_text_path):\n",
    "    \"\"\"\n",
    "    Input: train, dev and test TEXT json file paths\n",
    "    Output: pandas dfs for train, dev and test text\n",
    "    \"\"\"\n",
    "\n",
    "    # set paths\n",
    "    train_path = train_text_path\n",
    "    dev_path = dev_text_path\n",
    "    test_path = test_text_path\n",
    "\n",
    "    # read jsons\n",
    "    with open(train_path, 'r') as f:\n",
    "        data = json.load(f)\n",
    "    train_text = pd.DataFrame({'text':data})\n",
    "    with open(dev_path, 'r') as f:\n",
    "        data = json.load(f)\n",
    "    dev_text = pd.DataFrame({'text':data})\n",
    "    with open(test_path, 'r') as f:\n",
    "        data = json.load(f)\n",
    "    test_text = pd.DataFrame({'text':data})\n",
    "\n",
    "    # change the docIds index to a column\n",
    "    for i in [train_text, dev_text, test_text]:\n",
    "        i.reset_index(inplace=True)\n",
    "        i.rename(columns = {'index':'docId'}, inplace=True)\n",
    "        #print(i.dtypes)\n",
    "\n",
    "    return train_text, dev_text, test_text\n",
    "\n",
    "\n",
    "# train_text_test = generate_text_dfs(train_text_path = os.path.join(currentdir, \"../data/interim/train_txt.json\"),\n",
    "#                                                     dev_text_path = os.path.join(currentdir, \"../data/interim/dev_txt.json\"),\n",
    "#                                                     test_text_path = os.path.join(currentdir, \"../data/interim/test_txt.json\")\n",
    "#                                                     )\n",
    "\n",
    "# train_text_test\n",
    "# train_text, dev_text, test_text = generate_text_dfs(train_text_path = os.path.join(currentdir, \"../data/interim/train_txt.json\"),\n",
    "#                                                     dev_text_path = os.path.join(currentdir, \"../data/interim/dev_txt.json\"),\n",
    "#                                                     test_text_path = os.path.join(currentdir, \"../data/interim/test_txt.json\")\n",
    "#                                                     )\n"
   ]
  },
  {
   "cell_type": "code",
   "execution_count": 204,
   "metadata": {},
   "outputs": [],
   "source": [
    "def annotation_csv_to_pandas(path):\n",
    "    \"\"\"\n",
    "    Input: file path of csv\n",
    "    Output: csv with types cast to the following (other is all dictionaries)\n",
    "        annot_index     int64  **This is different than the dataframe index**\n",
    "        docId          string\n",
    "        annotSet        int64\n",
    "        annotType      string\n",
    "        startOffset     int64\n",
    "        endOffset       int64\n",
    "        annotId        string\n",
    "        text           string\n",
    "        other          object\n",
    "    \"\"\"\n",
    "    path = path\n",
    "    csv_temp = pd.read_csv(path, header=0)\n",
    "    csv_temp.rename(columns={'Unnamed: 0': 'annot_index'}, inplace=True)\n",
    "    csv_temp['other'] = csv_temp['other'].fillna(\"{}\")\n",
    "\n",
    "    def str_to_dict(x):\n",
    "        \"\"\"\n",
    "        Input: a string that looks like dict format\n",
    "        Output: dict\n",
    "        \"\"\"\n",
    "        if isinstance(x, str):\n",
    "            dict_str = json.loads(x)  \n",
    "        else:\n",
    "            print(\"something not string\")\n",
    "            # x = x.astype(str)\n",
    "            # dict_str = json.loads(x)\n",
    "        return dict_str\n",
    "        \n",
    "    csv_temp['docId'] = csv_temp['docId'].astype('string')\n",
    "    csv_temp['annotType'] = csv_temp['annotType'].astype('string')\n",
    "    csv_temp['text'] = csv_temp['text'].astype('string')\n",
    "    csv_temp['annotId'] = csv_temp['annotId'].astype('string')\n",
    "    csv_temp['other'] = csv_temp['other'].apply(str_to_dict, convert_dtype=True)\n",
    "\n",
    "    # Check if csv_temp['other'] is empty (NaNs successfully replaced with '{}')\n",
    "    # This shouldn't happen or the line above would break\n",
    "    if csv_temp[csv_temp['other'].apply(lambda x: isinstance(x, float))].empty == 0:\n",
    "        print(\"Warning: 'other' column contains floats\")\n",
    "\n",
    "    return csv_temp\n",
    "    \n",
    "# testing\n",
    "# annotation_csv_to_pandas(os.path.join(currentdir, \"../data/interim/train_annot.csv\"))"
   ]
  },
  {
   "cell_type": "code",
   "execution_count": 205,
   "metadata": {},
   "outputs": [],
   "source": [
    "def generate_annotation_dfs(train_annotation_path, dev_annotation_path, test_annotation_path):\n",
    "    \"\"\"\n",
    "    Input: train, dev and test ANNOTATION csv file paths\n",
    "    Output: pandas dfs for train, dev and test annotations\n",
    "    \"\"\"\n",
    "    train_path = train_annotation_path\n",
    "    dev_path = dev_annotation_path\n",
    "    test_path = test_annotation_path\n",
    "\n",
    "    train_df = annotation_csv_to_pandas(train_path)\n",
    "    dev_df = annotation_csv_to_pandas(dev_path)\n",
    "    test_df = annotation_csv_to_pandas(test_path)\n",
    "\n",
    "    return train_df, dev_df, test_df"
   ]
  },
  {
   "cell_type": "markdown",
   "metadata": {},
   "source": [
    "### Generate Dataframes"
   ]
  },
  {
   "cell_type": "code",
   "execution_count": 211,
   "metadata": {},
   "outputs": [],
   "source": [
    "# Generate annotations dataframes\n",
    "train_annot, dev_annot, test_annot = generate_annotation_dfs(train_annotation_path = os.path.join(currentdir, \"../data/interim/train_annot.csv\"),\n",
    "                                            dev_annotation_path = os.path.join(currentdir, \"../data/interim/dev_annot.csv\"),\n",
    "                                            test_annotation_path = os.path.join(currentdir, \"../data/interim/test_annot.csv\")\n",
    "                                            )\n",
    "\n",
    "# Generate text dataframs       \n",
    "train_text, dev_text, test_text = generate_text_dfs(train_text_path = os.path.join(currentdir, \"../data/interim/train_txt.json\"),\n",
    "                                                    dev_text_path = os.path.join(currentdir, \"../data/interim/dev_txt.json\"),\n",
    "                                                    test_text_path = os.path.join(currentdir, \"../data/interim/test_txt.json\")\n",
    "                                                    )"
   ]
  },
  {
   "cell_type": "markdown",
   "metadata": {},
   "source": [
    "### Testing (ignore)"
   ]
  },
  {
   "cell_type": "code",
   "execution_count": 215,
   "metadata": {},
   "outputs": [
    {
     "data": {
      "text/plain": [
       "pandas.core.frame.DataFrame"
      ]
     },
     "execution_count": 215,
     "metadata": {},
     "output_type": "execute_result"
    }
   ],
   "source": [
    "type(dev_text)"
   ]
  },
  {
   "cell_type": "code",
   "execution_count": 212,
   "metadata": {},
   "outputs": [
    {
     "data": {
      "text/html": [
       "<div>\n",
       "<style scoped>\n",
       "    .dataframe tbody tr th:only-of-type {\n",
       "        vertical-align: middle;\n",
       "    }\n",
       "\n",
       "    .dataframe tbody tr th {\n",
       "        vertical-align: top;\n",
       "    }\n",
       "\n",
       "    .dataframe thead th {\n",
       "        text-align: right;\n",
       "    }\n",
       "</style>\n",
       "<table border=\"1\" class=\"dataframe\">\n",
       "  <thead>\n",
       "    <tr style=\"text-align: right;\">\n",
       "      <th></th>\n",
       "      <th>docId</th>\n",
       "      <th>text</th>\n",
       "    </tr>\n",
       "  </thead>\n",
       "  <tbody>\n",
       "    <tr>\n",
       "      <th>0</th>\n",
       "      <td>S0012821X12004384-1284</td>\n",
       "      <td>All analyses were carried out at the NERC Isot...</td>\n",
       "    </tr>\n",
       "    <tr>\n",
       "      <th>1</th>\n",
       "      <td>S0012821X12004384-1640</td>\n",
       "      <td>A negative carbon isotope excursion of 5‰ has ...</td>\n",
       "    </tr>\n",
       "    <tr>\n",
       "      <th>2</th>\n",
       "      <td>S0012821X13002185-1217</td>\n",
       "      <td>Cleaned sponge and diatom opal was dissolved v...</td>\n",
       "    </tr>\n",
       "    <tr>\n",
       "      <th>3</th>\n",
       "      <td>S0016236113008041-3012</td>\n",
       "      <td>The fate of trace elements was investigated in...</td>\n",
       "    </tr>\n",
       "    <tr>\n",
       "      <th>4</th>\n",
       "      <td>S0016236113008041-3127</td>\n",
       "      <td>Thermodynamic modelling using MTDATA software ...</td>\n",
       "    </tr>\n",
       "  </tbody>\n",
       "</table>\n",
       "</div>"
      ],
      "text/plain": [
       "                    docId                                               text\n",
       "0  S0012821X12004384-1284  All analyses were carried out at the NERC Isot...\n",
       "1  S0012821X12004384-1640  A negative carbon isotope excursion of 5‰ has ...\n",
       "2  S0012821X13002185-1217  Cleaned sponge and diatom opal was dissolved v...\n",
       "3  S0016236113008041-3012  The fate of trace elements was investigated in...\n",
       "4  S0016236113008041-3127  Thermodynamic modelling using MTDATA software ..."
      ]
     },
     "execution_count": 212,
     "metadata": {},
     "output_type": "execute_result"
    }
   ],
   "source": [
    "dev_text.head()"
   ]
  },
  {
   "cell_type": "code",
   "execution_count": 185,
   "metadata": {},
   "outputs": [
    {
     "data": {
      "text/html": [
       "<div>\n",
       "<style scoped>\n",
       "    .dataframe tbody tr th:only-of-type {\n",
       "        vertical-align: middle;\n",
       "    }\n",
       "\n",
       "    .dataframe tbody tr th {\n",
       "        vertical-align: top;\n",
       "    }\n",
       "\n",
       "    .dataframe thead th {\n",
       "        text-align: right;\n",
       "    }\n",
       "</style>\n",
       "<table border=\"1\" class=\"dataframe\">\n",
       "  <thead>\n",
       "    <tr style=\"text-align: right;\">\n",
       "      <th></th>\n",
       "      <th>annot_index</th>\n",
       "      <th>docId</th>\n",
       "      <th>annotSet</th>\n",
       "      <th>annotType</th>\n",
       "      <th>startOffset</th>\n",
       "      <th>endOffset</th>\n",
       "      <th>annotId</th>\n",
       "      <th>text</th>\n",
       "      <th>other</th>\n",
       "    </tr>\n",
       "  </thead>\n",
       "  <tbody>\n",
       "    <tr>\n",
       "      <th>0</th>\n",
       "      <td>216</td>\n",
       "      <td>S0019103512003995-2579</td>\n",
       "      <td>1</td>\n",
       "      <td>Quantity</td>\n",
       "      <td>562</td>\n",
       "      <td>571</td>\n",
       "      <td>T1-1</td>\n",
       "      <td>below 3Rp</td>\n",
       "      <td>{'mods': ['IsRange'], 'unit': '3Rp'}</td>\n",
       "    </tr>\n",
       "    <tr>\n",
       "      <th>1</th>\n",
       "      <td>217</td>\n",
       "      <td>S0019103512003995-2579</td>\n",
       "      <td>1</td>\n",
       "      <td>MeasuredProperty</td>\n",
       "      <td>538</td>\n",
       "      <td>561</td>\n",
       "      <td>T4-1</td>\n",
       "      <td>hydrostatic equilibrium</td>\n",
       "      <td>{'HasQuantity': 'T1-1'}</td>\n",
       "    </tr>\n",
       "    <tr>\n",
       "      <th>2</th>\n",
       "      <td>218</td>\n",
       "      <td>S0019103512003995-2579</td>\n",
       "      <td>1</td>\n",
       "      <td>MeasuredEntity</td>\n",
       "      <td>501</td>\n",
       "      <td>516</td>\n",
       "      <td>T2-1</td>\n",
       "      <td>density profile</td>\n",
       "      <td>{'HasProperty': 'T4-1'}</td>\n",
       "    </tr>\n",
       "    <tr>\n",
       "      <th>3</th>\n",
       "      <td>219</td>\n",
       "      <td>S0019103512003995-2579</td>\n",
       "      <td>1</td>\n",
       "      <td>Qualifier</td>\n",
       "      <td>490</td>\n",
       "      <td>495</td>\n",
       "      <td>T3-1</td>\n",
       "      <td>model</td>\n",
       "      <td>{'Qualifies': 'T2-1'}</td>\n",
       "    </tr>\n",
       "    <tr>\n",
       "      <th>4</th>\n",
       "      <td>220</td>\n",
       "      <td>S0019103512003995-2579</td>\n",
       "      <td>2</td>\n",
       "      <td>Quantity</td>\n",
       "      <td>673</td>\n",
       "      <td>679</td>\n",
       "      <td>T1-2</td>\n",
       "      <td>6300 K</td>\n",
       "      <td>{'mods': ['IsMean'], 'unit': 'K'}</td>\n",
       "    </tr>\n",
       "  </tbody>\n",
       "</table>\n",
       "</div>"
      ],
      "text/plain": [
       "   annot_index                   docId  annotSet         annotType  \\\n",
       "0          216  S0019103512003995-2579         1          Quantity   \n",
       "1          217  S0019103512003995-2579         1  MeasuredProperty   \n",
       "2          218  S0019103512003995-2579         1    MeasuredEntity   \n",
       "3          219  S0019103512003995-2579         1         Qualifier   \n",
       "4          220  S0019103512003995-2579         2          Quantity   \n",
       "\n",
       "   startOffset  endOffset annotId                     text  \\\n",
       "0          562        571    T1-1                below 3Rp   \n",
       "1          538        561    T4-1  hydrostatic equilibrium   \n",
       "2          501        516    T2-1          density profile   \n",
       "3          490        495    T3-1                    model   \n",
       "4          673        679    T1-2                   6300 K   \n",
       "\n",
       "                                  other  \n",
       "0  {'mods': ['IsRange'], 'unit': '3Rp'}  \n",
       "1               {'HasQuantity': 'T1-1'}  \n",
       "2               {'HasProperty': 'T4-1'}  \n",
       "3                 {'Qualifies': 'T2-1'}  \n",
       "4     {'mods': ['IsMean'], 'unit': 'K'}  "
      ]
     },
     "execution_count": 185,
     "metadata": {},
     "output_type": "execute_result"
    }
   ],
   "source": [
    "test_annot.head()"
   ]
  },
  {
   "cell_type": "code",
   "execution_count": 188,
   "metadata": {},
   "outputs": [
    {
     "data": {
      "text/plain": [
       "True"
      ]
     },
     "execution_count": 188,
     "metadata": {},
     "output_type": "execute_result"
    }
   ],
   "source": [
    "# Check for NaNs in 'other' -- there shouldn't be any\n",
    "# Function should have replaced all NaNs with \"{}\"\n",
    "# which turns into an empty dict when using json.loads()\n",
    "test_annot[test_annot['other'].apply(lambda x: isinstance(x, float))].empty"
   ]
  },
  {
   "cell_type": "code",
   "execution_count": 187,
   "metadata": {},
   "outputs": [
    {
     "name": "stdout",
     "output_type": "stream",
     "text": [
      "annot_index     int64\n",
      "docId          string\n",
      "annotSet        int64\n",
      "annotType      string\n",
      "startOffset     int64\n",
      "endOffset       int64\n",
      "annotId        string\n",
      "text           string\n",
      "other          object\n",
      "dtype: object\n"
     ]
    }
   ],
   "source": [
    "print(test_annot.dtypes)\n"
   ]
  },
  {
   "cell_type": "code",
   "execution_count": null,
   "metadata": {},
   "outputs": [],
   "source": []
  },
  {
   "cell_type": "code",
   "execution_count": null,
   "metadata": {},
   "outputs": [],
   "source": []
  }
 ],
 "metadata": {
  "kernelspec": {
   "display_name": "Python 3.8.13 ('measeval')",
   "language": "python",
   "name": "python3"
  },
  "language_info": {
   "codemirror_mode": {
    "name": "ipython",
    "version": 3
   },
   "file_extension": ".py",
   "mimetype": "text/x-python",
   "name": "python",
   "nbconvert_exporter": "python",
   "pygments_lexer": "ipython3",
   "version": "3.8.13"
  },
  "orig_nbformat": 4,
  "vscode": {
   "interpreter": {
    "hash": "855fd3a08a97af1244f675d4c07eb3dc075792e0eef5adc33d42e4b83be782b0"
   }
  }
 },
 "nbformat": 4,
 "nbformat_minor": 2
}
