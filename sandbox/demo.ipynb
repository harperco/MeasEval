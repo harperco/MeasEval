{
 "cells": [
  {
   "cell_type": "code",
   "execution_count": 2,
   "metadata": {},
   "outputs": [
    {
     "data": {
      "text/plain": [
       "[{'score': 0.3502247929573059,\n",
       "  'token': 2943,\n",
       "  'token_str': ' male',\n",
       "  'sequence': 'Hello I am a male model.'},\n",
       " {'score': 0.0511113740503788,\n",
       "  'token': 1083,\n",
       "  'token_str': ' Russian',\n",
       "  'sequence': 'Hello I am a Russian model.'},\n",
       " {'score': 0.05098523199558258,\n",
       "  'token': 2182,\n",
       "  'token_str': ' female',\n",
       "  'sequence': 'Hello I am a female model.'},\n",
       " {'score': 0.04769495129585266,\n",
       "  'token': 2038,\n",
       "  'token_str': ' professional',\n",
       "  'sequence': 'Hello I am a professional model.'},\n",
       " {'score': 0.027035892009735107,\n",
       "  'token': 2734,\n",
       "  'token_str': ' fashion',\n",
       "  'sequence': 'Hello I am a fashion model.'}]"
      ]
     },
     "execution_count": 2,
     "metadata": {},
     "output_type": "execute_result"
    }
   ],
   "source": [
    "from transformers import pipeline\n",
    "base_demo = pipeline('fill-mask', model='roberta-base')\n",
    "base_demo(\"Hello I am a <mask> model.\")"
   ]
  },
  {
   "cell_type": "code",
   "execution_count": 3,
   "metadata": {},
   "outputs": [
    {
     "name": "stderr",
     "output_type": "stream",
     "text": [
      "Downloading: 100%|██████████| 430/430 [00:00<00:00, 246kB/s]\n",
      "Downloading: 100%|██████████| 625M/625M [00:45<00:00, 14.4MB/s] \n",
      "Downloading: 100%|██████████| 185/185 [00:00<00:00, 107kB/s]\n",
      "Downloading: 100%|██████████| 878k/878k [00:00<00:00, 2.34MB/s]\n",
      "Downloading: 100%|██████████| 446k/446k [00:00<00:00, 1.18MB/s]\n",
      "Downloading: 100%|██████████| 2.00/2.00 [00:00<00:00, 940B/s]\n",
      "Downloading: 100%|██████████| 150/150 [00:00<00:00, 57.7kB/s]\n"
     ]
    },
    {
     "data": {
      "text/plain": [
       "[{'score': 0.06600333750247955,\n",
       "  'token': 30412,\n",
       "  'token_str': ' mathematical',\n",
       "  'sequence': 'Hello I am a mathematical model.'},\n",
       " {'score': 0.021072689443826675,\n",
       "  'token': 16173,\n",
       "  'token_str': ' snake',\n",
       "  'sequence': 'Hello I am a snake model.'},\n",
       " {'score': 0.018121395260095596,\n",
       "  'token': 265,\n",
       "  'token_str': ' business',\n",
       "  'sequence': 'Hello I am a business model.'},\n",
       " {'score': 0.016627175733447075,\n",
       "  'token': 47680,\n",
       "  'token_str': ' DRAG',\n",
       "  'sequence': 'Hello I am a DRAG model.'},\n",
       " {'score': 0.01318351924419403,\n",
       "  'token': 8235,\n",
       "  'token_str': ' fantasy',\n",
       "  'sequence': 'Hello I am a fantasy model.'}]"
      ]
     },
     "execution_count": 3,
     "metadata": {},
     "output_type": "execute_result"
    }
   ],
   "source": [
    "biomed_demo = pipeline('fill-mask', model='allenai/biomed_roberta_base')\n",
    "biomed_demo(\"Hello I am a <mask> model.\")"
   ]
  },
  {
   "cell_type": "code",
   "execution_count": 5,
   "metadata": {},
   "outputs": [
    {
     "name": "stderr",
     "output_type": "stream",
     "text": [
      "/home/sam/.virtualenvs/measeval/lib/python3.8/site-packages/torch/cuda/__init__.py:145: UserWarning: \n",
      "NVIDIA GeForce RTX 3080 Ti with CUDA capability sm_86 is not compatible with the current PyTorch installation.\n",
      "The current PyTorch install supports CUDA capabilities sm_37 sm_50 sm_60 sm_70.\n",
      "If you want to use the NVIDIA GeForce RTX 3080 Ti GPU with PyTorch, please check the instructions at https://pytorch.org/get-started/locally/\n",
      "\n",
      "  warnings.warn(incompatible_device_warn.format(device_name, capability, \" \".join(arch_list), device_name))\n"
     ]
    },
    {
     "data": {
      "text/plain": [
       "'NVIDIA GeForce RTX 3080 Ti'"
      ]
     },
     "execution_count": 5,
     "metadata": {},
     "output_type": "execute_result"
    }
   ],
   "source": [
    "import torch\n",
    "torch.cuda.get_device_name(0)"
   ]
  }
 ],
 "metadata": {
  "kernelspec": {
   "display_name": "Python 3.8.13 ('measeval')",
   "language": "python",
   "name": "python3"
  },
  "language_info": {
   "codemirror_mode": {
    "name": "ipython",
    "version": 3
   },
   "file_extension": ".py",
   "mimetype": "text/x-python",
   "name": "python",
   "nbconvert_exporter": "python",
   "pygments_lexer": "ipython3",
   "version": "3.8.13"
  },
  "orig_nbformat": 4,
  "vscode": {
   "interpreter": {
    "hash": "9ad0c7ef506fd3822da5161fe678ca16e9e4263ec10bd5436ccea7b2864e61d3"
   }
  }
 },
 "nbformat": 4,
 "nbformat_minor": 2
}
