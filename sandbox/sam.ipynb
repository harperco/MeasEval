{
 "cells": [
  {
   "cell_type": "code",
   "execution_count": 7,
   "metadata": {},
   "outputs": [
    {
     "data": {
      "text/plain": [
       "[{'score': 0.3502247929573059,\n",
       "  'token': 2943,\n",
       "  'token_str': ' male',\n",
       "  'sequence': 'Hello I am a male model.'},\n",
       " {'score': 0.0511113740503788,\n",
       "  'token': 1083,\n",
       "  'token_str': ' Russian',\n",
       "  'sequence': 'Hello I am a Russian model.'},\n",
       " {'score': 0.05098523199558258,\n",
       "  'token': 2182,\n",
       "  'token_str': ' female',\n",
       "  'sequence': 'Hello I am a female model.'},\n",
       " {'score': 0.04769495129585266,\n",
       "  'token': 2038,\n",
       "  'token_str': ' professional',\n",
       "  'sequence': 'Hello I am a professional model.'},\n",
       " {'score': 0.027035892009735107,\n",
       "  'token': 2734,\n",
       "  'token_str': ' fashion',\n",
       "  'sequence': 'Hello I am a fashion model.'}]"
      ]
     },
     "execution_count": 7,
     "metadata": {},
     "output_type": "execute_result"
    }
   ],
   "source": [
    "from transformers import pipeline\n",
    "base_demo = pipeline('fill-mask', model='roberta-base')\n",
    "base_demo(\"Hello I am a <mask> model.\")"
   ]
  },
  {
   "cell_type": "code",
   "execution_count": 13,
   "metadata": {},
   "outputs": [
    {
     "data": {
      "text/plain": [
       "[{'score': 0.06600333750247955,\n",
       "  'token': 30412,\n",
       "  'token_str': ' mathematical',\n",
       "  'sequence': 'Hello I am a mathematical model.'},\n",
       " {'score': 0.021072689443826675,\n",
       "  'token': 16173,\n",
       "  'token_str': ' snake',\n",
       "  'sequence': 'Hello I am a snake model.'},\n",
       " {'score': 0.018121395260095596,\n",
       "  'token': 265,\n",
       "  'token_str': ' business',\n",
       "  'sequence': 'Hello I am a business model.'},\n",
       " {'score': 0.016627175733447075,\n",
       "  'token': 47680,\n",
       "  'token_str': ' DRAG',\n",
       "  'sequence': 'Hello I am a DRAG model.'},\n",
       " {'score': 0.01318351924419403,\n",
       "  'token': 8235,\n",
       "  'token_str': ' fantasy',\n",
       "  'sequence': 'Hello I am a fantasy model.'}]"
      ]
     },
     "execution_count": 13,
     "metadata": {},
     "output_type": "execute_result"
    }
   ],
   "source": [
    "biomed_demo = pipeline('fill-mask', model='allenai/biomed_roberta_base')\n",
    "biomed_demo(\"Hello I am a <mask> model.\")"
   ]
  }
 ],
 "metadata": {
  "kernelspec": {
   "display_name": "Python 3.7.13 ('measeval-venv')",
   "language": "python",
   "name": "python3"
  },
  "language_info": {
   "codemirror_mode": {
    "name": "ipython",
    "version": 3
   },
   "file_extension": ".py",
   "mimetype": "text/x-python",
   "name": "python",
   "nbconvert_exporter": "python",
   "pygments_lexer": "ipython3",
   "version": "3.7.13"
  },
  "orig_nbformat": 4,
  "vscode": {
   "interpreter": {
    "hash": "e9b66babc67828302c4465b6ef1ade6789d3c090c520629bfc033fc6811a45d1"
   }
  }
 },
 "nbformat": 4,
 "nbformat_minor": 2
}
